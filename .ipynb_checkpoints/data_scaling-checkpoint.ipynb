version https://git-lfs.github.com/spec/v1
oid sha256:dde80594c57cf794b1c98d33a153108be46e6181f453e8f212b04e7042997a37
size 3410
